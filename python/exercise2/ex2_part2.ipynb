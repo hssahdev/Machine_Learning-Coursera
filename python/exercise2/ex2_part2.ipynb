{
 "cells": [
  {
   "cell_type": "code",
   "execution_count": 3,
   "metadata": {},
   "outputs": [],
   "source": [
    "import numpy as np\n",
    "import pandas as pd\n",
    "import scipy.optimize as spo\n",
    "import matplotlib.pyplot as plt\n",
    "%matplotlib inline"
   ]
  },
  {
   "cell_type": "code",
   "execution_count": 4,
   "metadata": {},
   "outputs": [
    {
     "data": {
      "text/html": [
       "<div>\n",
       "<style scoped>\n",
       "    .dataframe tbody tr th:only-of-type {\n",
       "        vertical-align: middle;\n",
       "    }\n",
       "\n",
       "    .dataframe tbody tr th {\n",
       "        vertical-align: top;\n",
       "    }\n",
       "\n",
       "    .dataframe thead th {\n",
       "        text-align: right;\n",
       "    }\n",
       "</style>\n",
       "<table border=\"1\" class=\"dataframe\">\n",
       "  <thead>\n",
       "    <tr style=\"text-align: right;\">\n",
       "      <th></th>\n",
       "      <th>0</th>\n",
       "      <th>1</th>\n",
       "      <th>2</th>\n",
       "    </tr>\n",
       "  </thead>\n",
       "  <tbody>\n",
       "    <tr>\n",
       "      <th>0</th>\n",
       "      <td>0.051267</td>\n",
       "      <td>0.69956</td>\n",
       "      <td>1</td>\n",
       "    </tr>\n",
       "    <tr>\n",
       "      <th>1</th>\n",
       "      <td>-0.092742</td>\n",
       "      <td>0.68494</td>\n",
       "      <td>1</td>\n",
       "    </tr>\n",
       "    <tr>\n",
       "      <th>2</th>\n",
       "      <td>-0.213710</td>\n",
       "      <td>0.69225</td>\n",
       "      <td>1</td>\n",
       "    </tr>\n",
       "    <tr>\n",
       "      <th>3</th>\n",
       "      <td>-0.375000</td>\n",
       "      <td>0.50219</td>\n",
       "      <td>1</td>\n",
       "    </tr>\n",
       "    <tr>\n",
       "      <th>4</th>\n",
       "      <td>-0.513250</td>\n",
       "      <td>0.46564</td>\n",
       "      <td>1</td>\n",
       "    </tr>\n",
       "  </tbody>\n",
       "</table>\n",
       "</div>"
      ],
      "text/plain": [
       "          0        1  2\n",
       "0  0.051267  0.69956  1\n",
       "1 -0.092742  0.68494  1\n",
       "2 -0.213710  0.69225  1\n",
       "3 -0.375000  0.50219  1\n",
       "4 -0.513250  0.46564  1"
      ]
     },
     "execution_count": 4,
     "metadata": {},
     "output_type": "execute_result"
    }
   ],
   "source": [
    "data=pd.read_csv(\"ex2data2.txt\",header=None)\n",
    "data.head()"
   ]
  },
  {
   "cell_type": "code",
   "execution_count": 5,
   "metadata": {},
   "outputs": [],
   "source": [
    "data[3]=1\n",
    "data[4]=data[0]**2\n",
    "data[5]=data[0]*data[1]\n",
    "data[6]=data[1]**2\n",
    "data[7]=data[0]**3\n",
    "data[8]=data[1]**3\n",
    "data[9]=data[0]**2*data[1]\n",
    "data[10]=data[0]*data[1]**2\n",
    "data[11]=data[0]**4\n",
    "data[12]=data[1]**4\n",
    "data[13]=data[0]*data[1]**3\n",
    "data[14]=data[0]**2*data[1]**2\n",
    "data[15]=data[0]**3*data[1]\n",
    "data[16]=data[0]**5\n",
    "data[17]=data[1]**5\n",
    "data[18]=data[0]*data[1]**4\n",
    "data[19]=data[0]**4*data[1]\n",
    "data[20]=data[0]**2*data[1]**3\n",
    "data[21]=data[0]**3*data[1]**2\n",
    "data[22]=data[0]**6\n",
    "data[23]=data[1]**6\n",
    "data[24]=data[0]*data[1]**5\n",
    "data[25]=data[0]**5*data[1]\n",
    "data[26]=data[0]**4*data[1]**2\n",
    "data[27]=data[0]**2*data[1]**4\n",
    "data[28]=data[0]**3*data[1]**3\n",
    "data = np.array(data)"
   ]
  },
  {
   "cell_type": "code",
   "execution_count": 6,
   "metadata": {},
   "outputs": [
    {
     "data": {
      "text/plain": [
       "<matplotlib.collections.PathCollection at 0x7f02191604e0>"
      ]
     },
     "execution_count": 6,
     "metadata": {},
     "output_type": "execute_result"
    },
    {
     "data": {
      "image/png": "[encoded data removed]",
      "text/plain": [
       "<matplotlib.figure.Figure at 0x7f020b4ef198>"
      ]
     },
     "metadata": {
      "needs_background": "light"
     },
     "output_type": "display_data"
    }
   ],
   "source": [
    "plt.scatter(data[data[:,2]==1][:,0], data[data[:,2]==1][:,1], c='black', marker='+')\n",
    "plt.scatter(data[data[:,2]==0][:,0], data[data[:,2]==0][:,1], c='red', marker='.')"
   ]
  },
  {
   "cell_type": "code",
   "execution_count": 100,
   "metadata": {},
   "outputs": [
    {
     "data": {
      "text/plain": [
       "((28, 29), (1, 29))"
      ]
     },
     "execution_count": 100,
     "metadata": {},
     "output_type": "execute_result"
    }
   ],
   "source": [
    "X=np.array([data[3], data[0],data[1],data[4],data[5],data[6],data[7],data[8],data[9],data[10],data[11],data[12],data[13],data[14],data[15],data[16],data[17],data[18],data[19],data[20],data[21],data[22],data[23],data[24],data[25],data[26],data[27],data[28]])\n",
    "y=data[2].reshape((1,-1))\n",
    "X.shape, y.shape"
   ]
  },
  {
   "cell_type": "code",
   "execution_count": 93,
   "metadata": {},
   "outputs": [
    {
     "data": {
      "text/plain": [
       "(1, 28)"
      ]
     },
     "execution_count": 93,
     "metadata": {},
     "output_type": "execute_result"
    }
   ],
   "source": [
    "theta=np.zeros((1, 28))\n",
    "theta.shape"
   ]
  },
  {
   "cell_type": "code",
   "execution_count": 101,
   "metadata": {},
   "outputs": [],
   "source": [
    "l = 1\n",
    "def hypo(theta, X):\n",
    "    sig = 1/(1+np.exp(-theta.dot(X)))\n",
    "    return sig\n",
    "\n",
    "def J(theta):\n",
    "    m = y.shape[1]\n",
    "    th = theta.reshape((1,-1))\n",
    "    yp = hypo(th, X)\n",
    "    cost = -np.mean(y*np.log(yp)+(1-y)*np.log(1-yp)) + np.sum(th**2.0)*l/(2*m) - th[0,0]**2/(2*m)\n",
    "    return cost\n",
    "\n",
    "def dJ(theta):\n",
    "    m = y.shape[1]\n",
    "    th = theta.reshape((1,-1))\n",
    "    yp = hypo(th,X)\n",
    "    err = yp - y\n",
    "    d = (err.dot(X.T))/m + l*th/m\n",
    "    d[0,0] = d[0,0] - l*th[0,0]/m\n",
    "    return d.reshape((-1,))\n"
   ]
  },
  {
   "cell_type": "code",
   "execution_count": 102,
   "metadata": {},
   "outputs": [
    {
     "name": "stdout",
     "output_type": "stream",
     "text": [
      "Optimization terminated successfully.\n",
      "         Current function value: 0.563873\n",
      "         Iterations: 37\n",
      "         Function evaluations: 117\n",
      "         Gradient evaluations: 117\n"
     ]
    },
    {
     "data": {
      "text/plain": [
       "array([[ 7.29719514e+00, -3.89535083e-01, -2.29547717e-01,\n",
       "        -6.23502264e-04,  3.85262199e-02,  7.88081731e-02,\n",
       "         1.04909099e-01,  1.04080713e-01,  9.48943955e-02,\n",
       "         2.57668362e-02, -7.44039100e-02, -3.31999268e-01,\n",
       "        -5.92889678e-01, -9.38478310e-01, -5.78397352e-01,\n",
       "        -2.83309000e-01, -5.20290091e-01, -1.94036269e-01,\n",
       "        -5.83340085e-02, -6.31648132e-02, -1.11328413e-02,\n",
       "         3.89670129e-02,  1.00649794e-01,  1.16768575e-01,\n",
       "         8.82186146e-02, -2.37540226e-02, -2.33583930e-01,\n",
       "        -7.06071764e-02]])"
      ]
     },
     "execution_count": 102,
     "metadata": {},
     "output_type": "execute_result"
    }
   ],
   "source": [
    "theta = spo.fmin_cg(f=J,x0=theta.reshape((-1,)),fprime=dJ).reshape((1,-1))\n",
    "theta"
   ]
  },
  {
   "cell_type": "code",
   "execution_count": 103,
   "metadata": {},
   "outputs": [
    {
     "name": "stdout",
     "output_type": "stream",
     "text": [
      "(50, 50) (50, 50) (28,)\n",
      "(50, 50)\n"
     ]
    },
    {
     "name": "stderr",
     "output_type": "stream",
     "text": [
      "/usr/lib/python3/dist-packages/matplotlib/contour.py:1180: UserWarning: No contour levels were found within the data range.\n",
      "  warnings.warn(\"No contour levels were found\"\n"
     ]
    },
    {
     "data": {
      "image/png": "[encoded data removed]",
      "text/plain": [
       "<matplotlib.figure.Figure at 0x7f0208138cc0>"
      ]
     },
     "metadata": {
      "needs_background": "light"
     },
     "output_type": "display_data"
    }
   ],
   "source": [
    "def plot_pts(data, theta):\n",
    "    plt.scatter(data[data[:,2]==1][:,0], data[data[:,2]==1][:,1], c='black', marker='+')\n",
    "    plt.scatter(data[data[:,2]==0][:,0], data[data[:,2]==0][:,1], c='red', marker='.')\n",
    "    x1 = np.linspace(-1,1)\n",
    "    x2 = np.linspace(-1,1)\n",
    "    t = theta.flatten()\n",
    "    x1, x2 = np.meshgrid(x1, x2)\n",
    "    print(x1.shape, x2.shape, t.shape)\n",
    "    z = t[1]*x1 + t[2]*x2+t[3]*x1**2 + t[4]*x1*x2 +t[5]*x2**2 +t[6]*x1**3 + t[7]*x2**3 + t[8]*x1**2*x2+\\\n",
    "    t[9]*x1*x2**2 +t[10]*x1**4 + t[11]*x2**4 + t[12]*x1*x2**3 + t[13]*x1**2*x2**2 + t[14]*x1**3*x2 + t[15]*x1**5\\\n",
    "    + t[16]*x2**5 + t[17]*x1*x2**4 + t[18]*x1**4*x2 + t[19]*x1**2*x2**3 + t[20]*x1**3*x2**2 + t[21]*x1**6 +\\\n",
    "    t[22]*x2**6+ t[23]*x1*x2**5 + t[24]*x1**5*x2 + t[25]*x1**4*x2**2 + t[26]*x1**2*x2**4 + t[27]*x1**3*x2**3\n",
    "    print(z.shape)\n",
    "    plt.contour(x1, x2, z, [-t[0]])\n",
    "\n",
    "plot_pts(data, theta)"
   ]
  },
  {
   "cell_type": "code",
   "execution_count": null,
   "metadata": {},
   "outputs": [],
   "source": []
  }
 ],
 "metadata": {
  "kernelspec": {
   "display_name": "Python 3",
   "language": "python",
   "name": "python3"
  },
  "language_info": {
   "codemirror_mode": {
    "name": "ipython",
    "version": 3
   },
   "file_extension": ".py",
   "mimetype": "text/x-python",
   "name": "python",
   "nbconvert_exporter": "python",
   "pygments_lexer": "ipython3",
   "version": "3.6.7"
  }
 },
 "nbformat": 4,
 "nbformat_minor": 2
}
