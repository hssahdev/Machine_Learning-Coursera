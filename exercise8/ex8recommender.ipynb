{
 "cells": [
  {
   "cell_type": "code",
   "execution_count": 1,
   "metadata": {},
   "outputs": [],
   "source": [
    "import numpy as np\n",
    "from scipy.io import loadmat\n",
    "import scipy.optimize as spo"
   ]
  },
  {
   "cell_type": "code",
   "execution_count": 2,
   "metadata": {},
   "outputs": [],
   "source": [
    "data=loadmat('ex8_movies.mat')"
   ]
  },
  {
   "cell_type": "code",
   "execution_count": 3,
   "metadata": {},
   "outputs": [
    {
     "data": {
      "text/plain": [
       "{'R': array([[1, 1, 0, ..., 1, 0, 0],\n",
       "        [1, 0, 0, ..., 0, 0, 1],\n",
       "        [1, 0, 0, ..., 0, 0, 0],\n",
       "        ..., \n",
       "        [0, 0, 0, ..., 0, 0, 0],\n",
       "        [0, 0, 0, ..., 0, 0, 0],\n",
       "        [0, 0, 0, ..., 0, 0, 0]], dtype=uint8),\n",
       " 'Y': array([[5, 4, 0, ..., 5, 0, 0],\n",
       "        [3, 0, 0, ..., 0, 0, 5],\n",
       "        [4, 0, 0, ..., 0, 0, 0],\n",
       "        ..., \n",
       "        [0, 0, 0, ..., 0, 0, 0],\n",
       "        [0, 0, 0, ..., 0, 0, 0],\n",
       "        [0, 0, 0, ..., 0, 0, 0]], dtype=uint8),\n",
       " '__globals__': [],\n",
       " '__header__': 'MATLAB 5.0 MAT-file, Platform: GLNXA64, Created on: Thu Dec  1 17:19:26 2011',\n",
       " '__version__': '1.0'}"
      ]
     },
     "execution_count": 3,
     "metadata": {},
     "output_type": "execute_result"
    }
   ],
   "source": [
    "data"
   ]
  },
  {
   "cell_type": "code",
   "execution_count": 4,
   "metadata": {},
   "outputs": [
    {
     "data": {
      "text/plain": [
       "((1682, 943), (1682, 943))"
      ]
     },
     "execution_count": 4,
     "metadata": {},
     "output_type": "execute_result"
    }
   ],
   "source": [
    "r=data['R']\n",
    "y=data['Y']\n",
    "r.shape,y.shape"
   ]
  },
  {
   "cell_type": "code",
   "execution_count": 5,
   "metadata": {},
   "outputs": [
    {
     "data": {
      "text/plain": [
       "3.8783185840707963"
      ]
     },
     "execution_count": 5,
     "metadata": {},
     "output_type": "execute_result"
    }
   ],
   "source": [
    "float(y[0].sum())/r[0].sum()    #average rating for 1st movie"
   ]
  },
  {
   "cell_type": "code",
   "execution_count": 6,
   "metadata": {},
   "outputs": [
    {
     "data": {
      "text/plain": [
       "(1682, 943)"
      ]
     },
     "execution_count": 6,
     "metadata": {},
     "output_type": "execute_result"
    }
   ],
   "source": [
    "nm,nu=y.shape\n",
    "nm,nu"
   ]
  },
  {
   "cell_type": "code",
   "execution_count": 7,
   "metadata": {},
   "outputs": [],
   "source": [
    "def cost(params,y,r,n):\n",
    "    X=np.reshape(params[:nm*n],(nm,n))\n",
    "    theta=np.reshape(params[nm*n:],(nu,n))\n",
    "    err=(X.dot(theta.T)-y)*r\n",
    "    J=np.sum(err**2.0)/2.0\n",
    "    \n",
    "    dJX=err.dot(theta)\n",
    "    dJtheta=err.T.dot(X)\n",
    "    \n",
    "    dJ=np.concatenate((dJX.ravel(),dJtheta.ravel()))\n",
    "    return J,dJ"
   ]
  },
  {
   "cell_type": "code",
   "execution_count": 8,
   "metadata": {},
   "outputs": [
    {
     "data": {
      "text/plain": [
       "{'Theta': array([[ 0.28544362, -1.68426509,  0.26293877, ...,  0.76723235,\n",
       "         -1.10460164, -0.25186708],\n",
       "        [ 0.50501321, -0.45464846,  0.31746244, ...,  1.09306336,\n",
       "         -1.20029436, -0.39161676],\n",
       "        [-0.43191656, -0.47880449,  0.84671111, ...,  1.36333976,\n",
       "         -0.32523542, -0.19468212],\n",
       "        ..., \n",
       "        [ 1.0586926 , -0.8087176 ,  0.56935771, ...,  0.80421422,\n",
       "         -0.74346778, -0.11985885],\n",
       "        [ 0.89058932, -0.12894734,  0.35560466, ...,  1.37426807,\n",
       "         -0.7526549 , -0.81135311],\n",
       "        [ 0.82414136, -0.38892594,  1.06940502, ...,  1.28423703,\n",
       "         -0.98349993, -0.53184838]]),\n",
       " 'X': array([[ 1.0486855 , -0.40023196,  1.19411945, ...,  0.861721  ,\n",
       "         -0.69728994,  0.28874563],\n",
       "        [ 0.78085123, -0.38562591,  0.52119779, ...,  0.70402073,\n",
       "         -0.48583521, -0.56462407],\n",
       "        [ 0.64150886, -0.54785385, -0.08379638, ...,  0.83854643,\n",
       "         -0.69483208, -1.13479631],\n",
       "        ..., \n",
       "        [ 0.21952237, -0.20047886,  0.09257965, ...,  0.14595183,\n",
       "         -0.0431316 ,  0.17830451],\n",
       "        [ 0.16044028, -0.16015395,  0.23570946, ...,  0.2073381 ,\n",
       "         -0.33234766,  0.0428813 ],\n",
       "        [ 0.07677118, -0.19720738,  0.08186445, ...,  0.40012757,\n",
       "         -0.28747906, -0.03233498]]),\n",
       " '__globals__': [],\n",
       " '__header__': 'MATLAB 5.0 MAT-file, Platform: GLNXA64, Created on: Thu Dec  1 17:16:53 2011',\n",
       " '__version__': '1.0',\n",
       " 'num_features': array([[10]], dtype=uint8),\n",
       " 'num_movies': array([[1682]], dtype=uint16),\n",
       " 'num_users': array([[943]], dtype=uint16)}"
      ]
     },
     "execution_count": 8,
     "metadata": {},
     "output_type": "execute_result"
    }
   ],
   "source": [
    "#to check we have been provided pre-trained params\n",
    "param_data=loadmat('ex8_movieParams.mat')\n",
    "param_data"
   ]
  },
  {
   "cell_type": "code",
   "execution_count": 9,
   "metadata": {},
   "outputs": [
    {
     "data": {
      "text/plain": [
       "((943, 10), (1682, 10))"
      ]
     },
     "execution_count": 9,
     "metadata": {},
     "output_type": "execute_result"
    }
   ],
   "source": [
    "theta=param_data['Theta']\n",
    "X=param_data['X']\n",
    "theta.shape,X.shape"
   ]
  },
  {
   "cell_type": "code",
   "execution_count": 10,
   "metadata": {},
   "outputs": [],
   "source": [
    "params=np.concatenate((X.ravel(),theta.ravel()))"
   ]
  },
  {
   "cell_type": "code",
   "execution_count": 11,
   "metadata": {},
   "outputs": [
    {
     "data": {
      "text/plain": [
       "(26250,)"
      ]
     },
     "execution_count": 11,
     "metadata": {},
     "output_type": "execute_result"
    }
   ],
   "source": [
    "params.shape"
   ]
  },
  {
   "cell_type": "code",
   "execution_count": 12,
   "metadata": {},
   "outputs": [
    {
     "data": {
      "text/plain": [
       "(27918.64012454421,\n",
       " array([-6.26184144,  2.45936046, -6.87560329, ..., -6.56073746,\n",
       "         5.20459188,  2.65003952]))"
      ]
     },
     "execution_count": 12,
     "metadata": {},
     "output_type": "execute_result"
    }
   ],
   "source": [
    "J,dJ=cost(params,y,r,10)\n",
    "J,dJ"
   ]
  },
  {
   "cell_type": "code",
   "execution_count": 13,
   "metadata": {},
   "outputs": [
    {
     "data": {
      "text/plain": [
       "(26250,)"
      ]
     },
     "execution_count": 13,
     "metadata": {},
     "output_type": "execute_result"
    }
   ],
   "source": [
    "dJ.shape"
   ]
  },
  {
   "cell_type": "code",
   "execution_count": 14,
   "metadata": {},
   "outputs": [],
   "source": [
    "def cost_reg(params,y,r,n,l):\n",
    "    X=np.reshape(params[:nm*n],(nm,n))\n",
    "    theta=np.reshape(params[nm*n:],(nu,n))\n",
    "    err=(X.dot(theta.T)-y)*r\n",
    "    J=np.sum(err**2.0)/2.0+l*(np.sum(theta**2.0)+np.sum(X**2.0))/2\n",
    "    \n",
    "    #dJX=err.dot(theta)+l*X\n",
    "    #dJtheta=err.T.dot(X)+l*theta\n",
    "    \n",
    "    #dJ=np.concatenate((dJX.ravel(),dJtheta.ravel()))\n",
    "    return J\n",
    "def grad(params,y,r,n,l):\n",
    "    X=np.reshape(params[:nm*n],(nm,n))\n",
    "    theta=np.reshape(params[nm*n:],(nu,n))\n",
    "    err=(X.dot(theta.T)-y)*r\n",
    "    dJX=err.dot(theta)+l*X\n",
    "    dJtheta=err.T.dot(X)+l*theta\n",
    "    dJ=np.concatenate((dJX.ravel(),dJtheta.ravel()))\n",
    "    return dJ"
   ]
  },
  {
   "cell_type": "code",
   "execution_count": null,
   "metadata": {},
   "outputs": [],
   "source": [
    "lr=10\n",
    "org_params=spo.fmin_bfgs(f=cost_reg,x0=params,fprime=grad,args=(y,r,10,lr),maxiter=100)"
   ]
  },
  {
   "cell_type": "code",
   "execution_count": 36,
   "metadata": {},
   "outputs": [
    {
     "data": {
      "text/plain": [
       "     fun: 71873.41373852719\n",
       "     jac: array([  5.05106913e-06,  -3.61509146e-06,   3.76336585e-06, ...,\n",
       "        -3.37739020e-06,  -9.77246000e-07,  -9.93675749e-07])\n",
       " message: 'Desired error not necessarily achieved due to precision loss.'\n",
       "    nfev: 3621\n",
       "     nit: 2399\n",
       "    njev: 3620\n",
       "  status: 2\n",
       " success: False\n",
       "       x: array([ 1.03574345, -0.60272956,  1.07026546, ...,  0.71281032,\n",
       "       -1.53391643, -0.34906298])"
      ]
     },
     "execution_count": 36,
     "metadata": {},
     "output_type": "execute_result"
    }
   ],
   "source": [
    "org_params"
   ]
  },
  {
   "cell_type": "code",
   "execution_count": null,
   "metadata": {},
   "outputs": [],
   "source": []
  }
 ],
 "metadata": {
  "kernelspec": {
   "display_name": "Python 2",
   "language": "python",
   "name": "python2"
  },
  "language_info": {
   "codemirror_mode": {
    "name": "ipython",
    "version": 2
   },
   "file_extension": ".py",
   "mimetype": "text/x-python",
   "name": "python",
   "nbconvert_exporter": "python",
   "pygments_lexer": "ipython2",
   "version": "2.7.12"
  }
 },
 "nbformat": 4,
 "nbformat_minor": 2
}
